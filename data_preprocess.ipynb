{
 "cells": [
  {
   "cell_type": "code",
   "execution_count": 1,
   "metadata": {},
   "outputs": [],
   "source": [
    "import numpy as np\n",
    "import matplotlib.pyplot as plt\n",
    "import pandas as pd\n"
   ]
  },
  {
   "cell_type": "code",
   "execution_count": 3,
   "metadata": {},
   "outputs": [
    {
     "name": "stdout",
     "output_type": "stream",
     "text": [
      "         LocationCode             DateTime  WindSpeed(m/s)  Pressure(hpa)  \\\n",
      "0                  10  2024-03-01 17:14:06             0.0        1017.48   \n",
      "1                  10  2024-03-01 17:14:47             0.0        1017.48   \n",
      "2                  10  2024-03-01 17:15:47             0.0        1017.47   \n",
      "3                  10  2024-03-01 17:16:47             0.0        1017.46   \n",
      "4                  10  2024-03-01 17:17:47             0.0        1017.49   \n",
      "...               ...                  ...             ...            ...   \n",
      "1194888             9  2024-07-23 15:50:57             0.0         994.54   \n",
      "1194889             9  2024-07-23 15:51:57             0.0         994.40   \n",
      "1194890             9  2024-07-23 15:52:57             0.0         994.39   \n",
      "1194891             9  2024-07-23 15:53:57             0.0         994.40   \n",
      "1194892             9  2024-07-23 15:54:57             0.0         994.58   \n",
      "\n",
      "         Temperature(°C)  Humidity(%)  Sunlight(Lux)  Power(mW)  \n",
      "0                  15.59        94.30         652.92       0.12  \n",
      "1                  15.66        94.04         682.50       0.12  \n",
      "2                  15.74        94.10         750.00       0.14  \n",
      "3                  15.78        94.09         738.33       0.14  \n",
      "4                  15.80        94.08         660.83       0.12  \n",
      "...                  ...          ...            ...        ...  \n",
      "1194888            30.69        72.91        2288.33       1.10  \n",
      "1194889            30.27        73.16        3236.67       1.92  \n",
      "1194890            29.90        72.51        4526.67       3.57  \n",
      "1194891            29.38        73.23        4231.67       3.13  \n",
      "1194892            29.06        74.22        3685.83       2.46  \n",
      "\n",
      "[1194893 rows x 8 columns]\n"
     ]
    }
   ],
   "source": [
    "import os\n",
    "\n",
    "# Directory containing the CSV files\n",
    "directory = 'DS_Dataset'\n",
    "\n",
    "# List to hold individual DataFrames\n",
    "dfs = []\n",
    "\n",
    "# Iterate over each file in the directory\n",
    "for filename in os.listdir(directory):\n",
    "    if filename.endswith('.csv') and filename != 'upload.csv':\n",
    "        file_path = os.path.join(directory, filename)\n",
    "        df = pd.read_csv(file_path)\n",
    "        dfs.append(df)\n",
    "\n",
    "# Concatenate all DataFrames into a single DataFrame\n",
    "combined_df = pd.concat(dfs, ignore_index=True)\n",
    "\n",
    "print(combined_df)"
   ]
  },
  {
   "cell_type": "code",
   "execution_count": 4,
   "metadata": {},
   "outputs": [],
   "source": [
    "# Create the directory if it doesn't exist\n",
    "if not os.path.exists('ds_clean'):\n",
    "    os.makedirs('ds_clean')\n",
    "\n",
    "# Save the combined DataFrame to the specified directory\n",
    "combined_df.to_csv('ds_clean/ds_clean.csv', index=False)"
   ]
  }
 ],
 "metadata": {
  "kernelspec": {
   "display_name": "Python 3",
   "language": "python",
   "name": "python3"
  },
  "language_info": {
   "codemirror_mode": {
    "name": "ipython",
    "version": 3
   },
   "file_extension": ".py",
   "mimetype": "text/x-python",
   "name": "python",
   "nbconvert_exporter": "python",
   "pygments_lexer": "ipython3",
   "version": "3.12.7"
  }
 },
 "nbformat": 4,
 "nbformat_minor": 2
}
