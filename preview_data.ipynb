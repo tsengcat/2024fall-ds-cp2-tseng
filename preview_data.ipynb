{
 "cells": [
  {
   "cell_type": "code",
   "execution_count": 38,
   "metadata": {},
   "outputs": [],
   "source": [
    "import pandas as pd\n",
    "import numpy as np\n",
    "import matplotlib.pyplot as plt\n",
    "import sklearn as sk\n",
    "from sklearn import preprocessing\n"
   ]
  },
  {
   "cell_type": "markdown",
   "metadata": {},
   "source": [
    "### handle 資料\n"
   ]
  },
  {
   "cell_type": "code",
   "execution_count": 39,
   "metadata": {},
   "outputs": [
    {
     "data": {
      "text/html": [
       "<div>\n",
       "<style scoped>\n",
       "    .dataframe tbody tr th:only-of-type {\n",
       "        vertical-align: middle;\n",
       "    }\n",
       "\n",
       "    .dataframe tbody tr th {\n",
       "        vertical-align: top;\n",
       "    }\n",
       "\n",
       "    .dataframe thead th {\n",
       "        text-align: right;\n",
       "    }\n",
       "</style>\n",
       "<table border=\"1\" class=\"dataframe\">\n",
       "  <thead>\n",
       "    <tr style=\"text-align: right;\">\n",
       "      <th></th>\n",
       "      <th>LocationCode</th>\n",
       "      <th>DateTime</th>\n",
       "      <th>WindSpeed(m/s)</th>\n",
       "      <th>Pressure(hpa)</th>\n",
       "      <th>Temperature(°C)</th>\n",
       "      <th>Humidity(%)</th>\n",
       "      <th>Sunlight(Lux)</th>\n",
       "      <th>Power(mW)</th>\n",
       "    </tr>\n",
       "  </thead>\n",
       "  <tbody>\n",
       "    <tr>\n",
       "      <th>0</th>\n",
       "      <td>10</td>\n",
       "      <td>2024-03-01 17:14:06</td>\n",
       "      <td>0.0</td>\n",
       "      <td>1017.48</td>\n",
       "      <td>15.59</td>\n",
       "      <td>94.30</td>\n",
       "      <td>652.92</td>\n",
       "      <td>0.12</td>\n",
       "    </tr>\n",
       "    <tr>\n",
       "      <th>1</th>\n",
       "      <td>10</td>\n",
       "      <td>2024-03-01 17:14:47</td>\n",
       "      <td>0.0</td>\n",
       "      <td>1017.48</td>\n",
       "      <td>15.66</td>\n",
       "      <td>94.04</td>\n",
       "      <td>682.50</td>\n",
       "      <td>0.12</td>\n",
       "    </tr>\n",
       "    <tr>\n",
       "      <th>2</th>\n",
       "      <td>10</td>\n",
       "      <td>2024-03-01 17:15:47</td>\n",
       "      <td>0.0</td>\n",
       "      <td>1017.47</td>\n",
       "      <td>15.74</td>\n",
       "      <td>94.10</td>\n",
       "      <td>750.00</td>\n",
       "      <td>0.14</td>\n",
       "    </tr>\n",
       "    <tr>\n",
       "      <th>3</th>\n",
       "      <td>10</td>\n",
       "      <td>2024-03-01 17:16:47</td>\n",
       "      <td>0.0</td>\n",
       "      <td>1017.46</td>\n",
       "      <td>15.78</td>\n",
       "      <td>94.09</td>\n",
       "      <td>738.33</td>\n",
       "      <td>0.14</td>\n",
       "    </tr>\n",
       "    <tr>\n",
       "      <th>4</th>\n",
       "      <td>10</td>\n",
       "      <td>2024-03-01 17:17:47</td>\n",
       "      <td>0.0</td>\n",
       "      <td>1017.49</td>\n",
       "      <td>15.80</td>\n",
       "      <td>94.08</td>\n",
       "      <td>660.83</td>\n",
       "      <td>0.12</td>\n",
       "    </tr>\n",
       "    <tr>\n",
       "      <th>...</th>\n",
       "      <td>...</td>\n",
       "      <td>...</td>\n",
       "      <td>...</td>\n",
       "      <td>...</td>\n",
       "      <td>...</td>\n",
       "      <td>...</td>\n",
       "      <td>...</td>\n",
       "      <td>...</td>\n",
       "    </tr>\n",
       "    <tr>\n",
       "      <th>1194888</th>\n",
       "      <td>9</td>\n",
       "      <td>2024-07-23 15:50:57</td>\n",
       "      <td>0.0</td>\n",
       "      <td>994.54</td>\n",
       "      <td>30.69</td>\n",
       "      <td>72.91</td>\n",
       "      <td>2288.33</td>\n",
       "      <td>1.10</td>\n",
       "    </tr>\n",
       "    <tr>\n",
       "      <th>1194889</th>\n",
       "      <td>9</td>\n",
       "      <td>2024-07-23 15:51:57</td>\n",
       "      <td>0.0</td>\n",
       "      <td>994.40</td>\n",
       "      <td>30.27</td>\n",
       "      <td>73.16</td>\n",
       "      <td>3236.67</td>\n",
       "      <td>1.92</td>\n",
       "    </tr>\n",
       "    <tr>\n",
       "      <th>1194890</th>\n",
       "      <td>9</td>\n",
       "      <td>2024-07-23 15:52:57</td>\n",
       "      <td>0.0</td>\n",
       "      <td>994.39</td>\n",
       "      <td>29.90</td>\n",
       "      <td>72.51</td>\n",
       "      <td>4526.67</td>\n",
       "      <td>3.57</td>\n",
       "    </tr>\n",
       "    <tr>\n",
       "      <th>1194891</th>\n",
       "      <td>9</td>\n",
       "      <td>2024-07-23 15:53:57</td>\n",
       "      <td>0.0</td>\n",
       "      <td>994.40</td>\n",
       "      <td>29.38</td>\n",
       "      <td>73.23</td>\n",
       "      <td>4231.67</td>\n",
       "      <td>3.13</td>\n",
       "    </tr>\n",
       "    <tr>\n",
       "      <th>1194892</th>\n",
       "      <td>9</td>\n",
       "      <td>2024-07-23 15:54:57</td>\n",
       "      <td>0.0</td>\n",
       "      <td>994.58</td>\n",
       "      <td>29.06</td>\n",
       "      <td>74.22</td>\n",
       "      <td>3685.83</td>\n",
       "      <td>2.46</td>\n",
       "    </tr>\n",
       "  </tbody>\n",
       "</table>\n",
       "<p>1194893 rows × 8 columns</p>\n",
       "</div>"
      ],
      "text/plain": [
       "         LocationCode             DateTime  WindSpeed(m/s)  Pressure(hpa)  \\\n",
       "0                  10  2024-03-01 17:14:06             0.0        1017.48   \n",
       "1                  10  2024-03-01 17:14:47             0.0        1017.48   \n",
       "2                  10  2024-03-01 17:15:47             0.0        1017.47   \n",
       "3                  10  2024-03-01 17:16:47             0.0        1017.46   \n",
       "4                  10  2024-03-01 17:17:47             0.0        1017.49   \n",
       "...               ...                  ...             ...            ...   \n",
       "1194888             9  2024-07-23 15:50:57             0.0         994.54   \n",
       "1194889             9  2024-07-23 15:51:57             0.0         994.40   \n",
       "1194890             9  2024-07-23 15:52:57             0.0         994.39   \n",
       "1194891             9  2024-07-23 15:53:57             0.0         994.40   \n",
       "1194892             9  2024-07-23 15:54:57             0.0         994.58   \n",
       "\n",
       "         Temperature(°C)  Humidity(%)  Sunlight(Lux)  Power(mW)  \n",
       "0                  15.59        94.30         652.92       0.12  \n",
       "1                  15.66        94.04         682.50       0.12  \n",
       "2                  15.74        94.10         750.00       0.14  \n",
       "3                  15.78        94.09         738.33       0.14  \n",
       "4                  15.80        94.08         660.83       0.12  \n",
       "...                  ...          ...            ...        ...  \n",
       "1194888            30.69        72.91        2288.33       1.10  \n",
       "1194889            30.27        73.16        3236.67       1.92  \n",
       "1194890            29.90        72.51        4526.67       3.57  \n",
       "1194891            29.38        73.23        4231.67       3.13  \n",
       "1194892            29.06        74.22        3685.83       2.46  \n",
       "\n",
       "[1194893 rows x 8 columns]"
      ]
     },
     "execution_count": 39,
     "metadata": {},
     "output_type": "execute_result"
    }
   ],
   "source": [
    "\n",
    "# Load the CSV file into a DataFrame\n",
    "orig_df = pd.read_csv('ds_clean/ds_clean.csv')\n",
    "orig_df"
   ]
  },
  {
   "cell_type": "markdown",
   "metadata": {},
   "source": [
    "#### 把資料的時間改成從某點開始算的方式"
   ]
  },
  {
   "cell_type": "code",
   "execution_count": 16,
   "metadata": {},
   "outputs": [
    {
     "data": {
      "text/html": [
       "<div>\n",
       "<style scoped>\n",
       "    .dataframe tbody tr th:only-of-type {\n",
       "        vertical-align: middle;\n",
       "    }\n",
       "\n",
       "    .dataframe tbody tr th {\n",
       "        vertical-align: top;\n",
       "    }\n",
       "\n",
       "    .dataframe thead th {\n",
       "        text-align: right;\n",
       "    }\n",
       "</style>\n",
       "<table border=\"1\" class=\"dataframe\">\n",
       "  <thead>\n",
       "    <tr style=\"text-align: right;\">\n",
       "      <th></th>\n",
       "      <th>LocationCode</th>\n",
       "      <th>WindSpeed(m/s)</th>\n",
       "      <th>Pressure(hpa)</th>\n",
       "      <th>Temperature(°C)</th>\n",
       "      <th>Humidity(%)</th>\n",
       "      <th>Sunlight(Lux)</th>\n",
       "      <th>Power(mW)</th>\n",
       "      <th>DayOfYear</th>\n",
       "      <th>MinutesSinceStartOfDay</th>\n",
       "    </tr>\n",
       "  </thead>\n",
       "  <tbody>\n",
       "    <tr>\n",
       "      <th>0</th>\n",
       "      <td>10</td>\n",
       "      <td>0.0</td>\n",
       "      <td>1017.48</td>\n",
       "      <td>15.59</td>\n",
       "      <td>94.30</td>\n",
       "      <td>652.92</td>\n",
       "      <td>0.12</td>\n",
       "      <td>61</td>\n",
       "      <td>1034</td>\n",
       "    </tr>\n",
       "    <tr>\n",
       "      <th>1</th>\n",
       "      <td>10</td>\n",
       "      <td>0.0</td>\n",
       "      <td>1017.48</td>\n",
       "      <td>15.66</td>\n",
       "      <td>94.04</td>\n",
       "      <td>682.50</td>\n",
       "      <td>0.12</td>\n",
       "      <td>61</td>\n",
       "      <td>1034</td>\n",
       "    </tr>\n",
       "    <tr>\n",
       "      <th>2</th>\n",
       "      <td>10</td>\n",
       "      <td>0.0</td>\n",
       "      <td>1017.47</td>\n",
       "      <td>15.74</td>\n",
       "      <td>94.10</td>\n",
       "      <td>750.00</td>\n",
       "      <td>0.14</td>\n",
       "      <td>61</td>\n",
       "      <td>1035</td>\n",
       "    </tr>\n",
       "    <tr>\n",
       "      <th>3</th>\n",
       "      <td>10</td>\n",
       "      <td>0.0</td>\n",
       "      <td>1017.46</td>\n",
       "      <td>15.78</td>\n",
       "      <td>94.09</td>\n",
       "      <td>738.33</td>\n",
       "      <td>0.14</td>\n",
       "      <td>61</td>\n",
       "      <td>1036</td>\n",
       "    </tr>\n",
       "    <tr>\n",
       "      <th>4</th>\n",
       "      <td>10</td>\n",
       "      <td>0.0</td>\n",
       "      <td>1017.49</td>\n",
       "      <td>15.80</td>\n",
       "      <td>94.08</td>\n",
       "      <td>660.83</td>\n",
       "      <td>0.12</td>\n",
       "      <td>61</td>\n",
       "      <td>1037</td>\n",
       "    </tr>\n",
       "    <tr>\n",
       "      <th>...</th>\n",
       "      <td>...</td>\n",
       "      <td>...</td>\n",
       "      <td>...</td>\n",
       "      <td>...</td>\n",
       "      <td>...</td>\n",
       "      <td>...</td>\n",
       "      <td>...</td>\n",
       "      <td>...</td>\n",
       "      <td>...</td>\n",
       "    </tr>\n",
       "    <tr>\n",
       "      <th>1194888</th>\n",
       "      <td>9</td>\n",
       "      <td>0.0</td>\n",
       "      <td>994.54</td>\n",
       "      <td>30.69</td>\n",
       "      <td>72.91</td>\n",
       "      <td>2288.33</td>\n",
       "      <td>1.10</td>\n",
       "      <td>205</td>\n",
       "      <td>950</td>\n",
       "    </tr>\n",
       "    <tr>\n",
       "      <th>1194889</th>\n",
       "      <td>9</td>\n",
       "      <td>0.0</td>\n",
       "      <td>994.40</td>\n",
       "      <td>30.27</td>\n",
       "      <td>73.16</td>\n",
       "      <td>3236.67</td>\n",
       "      <td>1.92</td>\n",
       "      <td>205</td>\n",
       "      <td>951</td>\n",
       "    </tr>\n",
       "    <tr>\n",
       "      <th>1194890</th>\n",
       "      <td>9</td>\n",
       "      <td>0.0</td>\n",
       "      <td>994.39</td>\n",
       "      <td>29.90</td>\n",
       "      <td>72.51</td>\n",
       "      <td>4526.67</td>\n",
       "      <td>3.57</td>\n",
       "      <td>205</td>\n",
       "      <td>952</td>\n",
       "    </tr>\n",
       "    <tr>\n",
       "      <th>1194891</th>\n",
       "      <td>9</td>\n",
       "      <td>0.0</td>\n",
       "      <td>994.40</td>\n",
       "      <td>29.38</td>\n",
       "      <td>73.23</td>\n",
       "      <td>4231.67</td>\n",
       "      <td>3.13</td>\n",
       "      <td>205</td>\n",
       "      <td>953</td>\n",
       "    </tr>\n",
       "    <tr>\n",
       "      <th>1194892</th>\n",
       "      <td>9</td>\n",
       "      <td>0.0</td>\n",
       "      <td>994.58</td>\n",
       "      <td>29.06</td>\n",
       "      <td>74.22</td>\n",
       "      <td>3685.83</td>\n",
       "      <td>2.46</td>\n",
       "      <td>205</td>\n",
       "      <td>954</td>\n",
       "    </tr>\n",
       "  </tbody>\n",
       "</table>\n",
       "<p>1194893 rows × 9 columns</p>\n",
       "</div>"
      ],
      "text/plain": [
       "         LocationCode  WindSpeed(m/s)  Pressure(hpa)  Temperature(°C)  \\\n",
       "0                  10             0.0        1017.48            15.59   \n",
       "1                  10             0.0        1017.48            15.66   \n",
       "2                  10             0.0        1017.47            15.74   \n",
       "3                  10             0.0        1017.46            15.78   \n",
       "4                  10             0.0        1017.49            15.80   \n",
       "...               ...             ...            ...              ...   \n",
       "1194888             9             0.0         994.54            30.69   \n",
       "1194889             9             0.0         994.40            30.27   \n",
       "1194890             9             0.0         994.39            29.90   \n",
       "1194891             9             0.0         994.40            29.38   \n",
       "1194892             9             0.0         994.58            29.06   \n",
       "\n",
       "         Humidity(%)  Sunlight(Lux)  Power(mW)  DayOfYear  \\\n",
       "0              94.30         652.92       0.12         61   \n",
       "1              94.04         682.50       0.12         61   \n",
       "2              94.10         750.00       0.14         61   \n",
       "3              94.09         738.33       0.14         61   \n",
       "4              94.08         660.83       0.12         61   \n",
       "...              ...            ...        ...        ...   \n",
       "1194888        72.91        2288.33       1.10        205   \n",
       "1194889        73.16        3236.67       1.92        205   \n",
       "1194890        72.51        4526.67       3.57        205   \n",
       "1194891        73.23        4231.67       3.13        205   \n",
       "1194892        74.22        3685.83       2.46        205   \n",
       "\n",
       "         MinutesSinceStartOfDay  \n",
       "0                          1034  \n",
       "1                          1034  \n",
       "2                          1035  \n",
       "3                          1036  \n",
       "4                          1037  \n",
       "...                         ...  \n",
       "1194888                     950  \n",
       "1194889                     951  \n",
       "1194890                     952  \n",
       "1194891                     953  \n",
       "1194892                     954  \n",
       "\n",
       "[1194893 rows x 9 columns]"
      ]
     },
     "execution_count": 16,
     "metadata": {},
     "output_type": "execute_result"
    }
   ],
   "source": [
    "# Convert the 'DateTime' column to datetime format\n",
    "df = orig_df.copy()\n",
    "df['DateTime'] = pd.to_datetime(df['DateTime'])\n",
    "\n",
    "# Extract the date part and calculate the day of the year\n",
    "df['DayOfYear'] = df['DateTime'].dt.dayofyear\n",
    "# Calculate the number of minutes since the start of the day\n",
    "df['MinutesSinceStartOfDay'] = df['DateTime'].dt.hour * 60 + df['DateTime'].dt.minute\n",
    "# Display the updated DataFrame\n",
    "df = df.drop(columns=['DateTime'])\n",
    "df\n"
   ]
  },
  {
   "cell_type": "code",
   "execution_count": 17,
   "metadata": {},
   "outputs": [
    {
     "name": "stdout",
     "output_type": "stream",
     "text": [
      "Number of unique (day, minute) combinations: 167998\n"
     ]
    }
   ],
   "source": [
    "unique_day_minute_combinations = df[['DayOfYear', 'MinutesSinceStartOfDay']].drop_duplicates()\n",
    "num_unique_combinations = unique_day_minute_combinations.shape[0]\n",
    "print(f\"Number of unique (day, minute) combinations: {num_unique_combinations}\")\n",
    "# Number of unique (day, minute) combinations: 135606"
   ]
  },
  {
   "cell_type": "code",
   "execution_count": 18,
   "metadata": {},
   "outputs": [
    {
     "name": "stdout",
     "output_type": "stream",
     "text": [
      "L1 shape = 95913\n",
      "L2 shape = 81320\n",
      "L3 shape = 49620\n",
      "L4 shape = 51140\n",
      "L5 shape = 49397\n",
      "L6 shape = 46799\n",
      "L7 shape = 37758\n",
      "L8 shape = 111239\n",
      "L9 shape = 83852\n",
      "L10 shape = 85580\n",
      "L11 shape = 51208\n",
      "L12 shape = 77151\n",
      "L13 shape = 63746\n",
      "L14 shape = 60391\n",
      "L15 shape = 79480\n",
      "L16 shape = 77497\n"
     ]
    }
   ],
   "source": [
    "for i in range(1, 17):\n",
    "    print(f\"L{i} shape = {df[df[\"LocationCode\"] == i].shape[0]}\")"
   ]
  },
  {
   "cell_type": "markdown",
   "metadata": {},
   "source": [
    "### 評估資料缺失狀況\n",
    "\n"
   ]
  },
  {
   "cell_type": "code",
   "execution_count": 19,
   "metadata": {},
   "outputs": [
    {
     "data": {
      "text/html": [
       "<div>\n",
       "<style scoped>\n",
       "    .dataframe tbody tr th:only-of-type {\n",
       "        vertical-align: middle;\n",
       "    }\n",
       "\n",
       "    .dataframe tbody tr th {\n",
       "        vertical-align: top;\n",
       "    }\n",
       "\n",
       "    .dataframe thead th {\n",
       "        text-align: right;\n",
       "    }\n",
       "</style>\n",
       "<table border=\"1\" class=\"dataframe\">\n",
       "  <thead>\n",
       "    <tr style=\"text-align: right;\">\n",
       "      <th></th>\n",
       "      <th>DayOfYear</th>\n",
       "      <th>MinutesSinceStartOfDay</th>\n",
       "    </tr>\n",
       "  </thead>\n",
       "  <tbody>\n",
       "    <tr>\n",
       "      <th>0</th>\n",
       "      <td>61</td>\n",
       "      <td>1034</td>\n",
       "    </tr>\n",
       "    <tr>\n",
       "      <th>1</th>\n",
       "      <td>61</td>\n",
       "      <td>1035</td>\n",
       "    </tr>\n",
       "    <tr>\n",
       "      <th>2</th>\n",
       "      <td>61</td>\n",
       "      <td>1036</td>\n",
       "    </tr>\n",
       "    <tr>\n",
       "      <th>3</th>\n",
       "      <td>61</td>\n",
       "      <td>1037</td>\n",
       "    </tr>\n",
       "    <tr>\n",
       "      <th>4</th>\n",
       "      <td>61</td>\n",
       "      <td>1038</td>\n",
       "    </tr>\n",
       "    <tr>\n",
       "      <th>...</th>\n",
       "      <td>...</td>\n",
       "      <td>...</td>\n",
       "    </tr>\n",
       "    <tr>\n",
       "      <th>118402</th>\n",
       "      <td>155</td>\n",
       "      <td>293</td>\n",
       "    </tr>\n",
       "    <tr>\n",
       "      <th>118403</th>\n",
       "      <td>155</td>\n",
       "      <td>294</td>\n",
       "    </tr>\n",
       "    <tr>\n",
       "      <th>118404</th>\n",
       "      <td>156</td>\n",
       "      <td>1129</td>\n",
       "    </tr>\n",
       "    <tr>\n",
       "      <th>118405</th>\n",
       "      <td>170</td>\n",
       "      <td>1137</td>\n",
       "    </tr>\n",
       "    <tr>\n",
       "      <th>118406</th>\n",
       "      <td>171</td>\n",
       "      <td>1132</td>\n",
       "    </tr>\n",
       "  </tbody>\n",
       "</table>\n",
       "<p>118407 rows × 2 columns</p>\n",
       "</div>"
      ],
      "text/plain": [
       "        DayOfYear  MinutesSinceStartOfDay\n",
       "0              61                    1034\n",
       "1              61                    1035\n",
       "2              61                    1036\n",
       "3              61                    1037\n",
       "4              61                    1038\n",
       "...           ...                     ...\n",
       "118402        155                     293\n",
       "118403        155                     294\n",
       "118404        156                    1129\n",
       "118405        170                    1137\n",
       "118406        171                    1132\n",
       "\n",
       "[118407 rows x 2 columns]"
      ]
     },
     "execution_count": 19,
     "metadata": {},
     "output_type": "execute_result"
    }
   ],
   "source": [
    "# 複製一份 unique_day_minute_combinations 叫做 missing\n",
    "missing = unique_day_minute_combinations.copy()\n",
    "\n",
    "# 將 df 過濾為只包含必要的行\n",
    "filtered_df = df[df['LocationCode'].isin([1, 2, 3])]\n",
    "\n",
    "# 透過 groupby 聚合來檢查每組 (DayOfYear, MinutesSinceStartOfDay) 是否涵蓋所有 location\n",
    "location_check = (\n",
    "    filtered_df.groupby(['DayOfYear', 'MinutesSinceStartOfDay'])['LocationCode']\n",
    "    .nunique()\n",
    "    .reset_index()\n",
    ")\n",
    "\n",
    "# 篩選出 location 不完整的 (DayOfYear, MinutesSinceStartOfDay)\n",
    "incomplete_combinations = location_check[location_check['LocationCode'] < 3]\n",
    "incomplete_combinations = incomplete_combinations[['DayOfYear', 'MinutesSinceStartOfDay']]\n",
    "\n",
    "# 將 missing 限制為不完整的組合\n",
    "missing = missing.merge(incomplete_combinations, on=['DayOfYear', 'MinutesSinceStartOfDay'], how='inner')\n",
    "\n",
    "# 顯示結果\n",
    "missing\n"
   ]
  },
  {
   "cell_type": "markdown",
   "metadata": {},
   "source": [
    "### 評估location間的關聯性"
   ]
  },
  {
   "cell_type": "code",
   "execution_count": 20,
   "metadata": {},
   "outputs": [
    {
     "data": {
      "image/png": "[encoded data removed]",
      "text/plain": [
       "<Figure size 1000x800 with 2 Axes>"
      ]
     },
     "metadata": {},
     "output_type": "display_data"
    }
   ],
   "source": [
    "import pandas as pd\n",
    "import numpy as np\n",
    "import matplotlib.pyplot as plt\n",
    "\n",
    "# 假設原始數據\n",
    "data = df[['LocationCode', 'DayOfYear', 'MinutesSinceStartOfDay', 'Power(mW)']]\n",
    "\n",
    "# 建立 DataFrame\n",
    "class_data = pd.DataFrame(data)\n",
    "\n",
    "# Step 1: 建立統一時間戳記欄位\n",
    "class_data['timestamp'] = class_data['DayOfYear'] * 24 * 60 + class_data['MinutesSinceStartOfDay']  # 轉換成分鐘為基準的時間戳\n",
    "class_data = class_data[['LocationCode', 'timestamp', 'Power(mW)']]  # 保留需要的欄位\n",
    "\n",
    "# Step 2: 建立完整時間範圍並對齊\n",
    "full_time_range = pd.DataFrame({'timestamp': np.arange(class_data['timestamp'].min(), class_data['timestamp'].max() + 1)})\n",
    "merged = full_time_range.merge(class_data, on='timestamp', how='left')\n",
    "\n",
    "# 將不同的 class 分成獨立欄位\n",
    "pivot_table = merged.pivot_table(index='timestamp', columns='LocationCode', values='Power(mW)')\n",
    "\n",
    "# Step 3: 計算相關性\n",
    "correlation_matrix = pivot_table.corr(method='pearson')\n",
    "\n",
    "# Step 4: 視覺化相關性\n",
    "plt.figure(figsize=(10, 8))\n",
    "plt.imshow(correlation_matrix, cmap='Blues', interpolation='none')\n",
    "plt.colorbar(label='Correlation Coefficient')\n",
    "plt.xticks(range(len(correlation_matrix.columns)), correlation_matrix.columns, rotation=90)\n",
    "plt.yticks(range(len(correlation_matrix.index)), correlation_matrix.index)\n",
    "plt.title('Correlation Matrix of Classes(power)')\n",
    "plt.show()\n"
   ]
  },
  {
   "cell_type": "code",
   "execution_count": 21,
   "metadata": {},
   "outputs": [
    {
     "data": {
      "image/png": "[encoded data removed]",
      "text/plain": [
       "<Figure size 1000x800 with 2 Axes>"
      ]
     },
     "metadata": {},
     "output_type": "display_data"
    }
   ],
   "source": [
    "# Step 4: 根據平均相關性排序\n",
    "mean_correlation = correlation_matrix.mean(axis=1).sort_values(ascending=False)\n",
    "sorted_classes = mean_correlation.index\n",
    "sorted_matrix = correlation_matrix.loc[sorted_classes, sorted_classes]\n",
    "\n",
    "# Step 5: 視覺化相關性\n",
    "plt.figure(figsize=(10, 8))\n",
    "plt.imshow(sorted_matrix, cmap='coolwarm', interpolation='none')\n",
    "plt.colorbar(label='Correlation Coefficient')\n",
    "plt.xticks(range(len(sorted_matrix.columns)), sorted_matrix.columns, rotation=90)\n",
    "plt.yticks(range(len(sorted_matrix.index)), sorted_matrix.index)\n",
    "plt.title('Correlation Matrix of Classes (Sorted)(power)')\n",
    "plt.show()\n"
   ]
  },
  {
   "cell_type": "code",
   "execution_count": 22,
   "metadata": {},
   "outputs": [
    {
     "data": {
      "image/png": "[encoded data removed]",
      "text/plain": [
       "<Figure size 1000x800 with 2 Axes>"
      ]
     },
     "metadata": {},
     "output_type": "display_data"
    }
   ],
   "source": [
    "import pandas as pd\n",
    "import numpy as np\n",
    "import matplotlib.pyplot as plt\n",
    "\n",
    "# 假設原始數據\n",
    "data = df[['LocationCode', 'DayOfYear', 'MinutesSinceStartOfDay', 'Sunlight(Lux)']]\n",
    "\n",
    "# 建立 DataFrame\n",
    "class_data = pd.DataFrame(data)\n",
    "\n",
    "# Step 1: 建立統一時間戳記欄位\n",
    "class_data['timestamp'] = class_data['DayOfYear'] * 24 * 60 + class_data['MinutesSinceStartOfDay']  # 轉換成分鐘為基準的時間戳\n",
    "class_data = class_data[['LocationCode', 'timestamp', 'Sunlight(Lux)']]  # 保留需要的欄位\n",
    "\n",
    "# Step 2: 建立完整時間範圍並對齊\n",
    "full_time_range = pd.DataFrame({'timestamp': np.arange(class_data['timestamp'].min(), class_data['timestamp'].max() + 1)})\n",
    "merged = full_time_range.merge(class_data, on='timestamp', how='left')\n",
    "\n",
    "# 將不同的 class 分成獨立欄位\n",
    "pivot_table = merged.pivot_table(index='timestamp', columns='LocationCode', values='Sunlight(Lux)')\n",
    "\n",
    "# Step 3: 計算相關性\n",
    "correlation_matrix = pivot_table.corr(method='pearson')\n",
    "\n",
    "# Step 4: 視覺化相關性\n",
    "plt.figure(figsize=(10, 8))\n",
    "plt.imshow(correlation_matrix, cmap='Blues', interpolation='none')\n",
    "plt.colorbar(label='Correlation Coefficient')\n",
    "plt.xticks(range(len(correlation_matrix.columns)), correlation_matrix.columns, rotation=90)\n",
    "plt.yticks(range(len(correlation_matrix.index)), correlation_matrix.index)\n",
    "plt.title('Correlation Matrix of Classes(sunlight)')\n",
    "plt.show()\n"
   ]
  },
  {
   "cell_type": "code",
   "execution_count": 23,
   "metadata": {},
   "outputs": [
    {
     "data": {
      "image/png": "[encoded data removed]",
      "text/plain": [
       "<Figure size 1000x800 with 2 Axes>"
      ]
     },
     "metadata": {},
     "output_type": "display_data"
    }
   ],
   "source": [
    "# Step 4: 根據平均相關性排序\n",
    "mean_correlation = correlation_matrix.mean(axis=1).sort_values(ascending=False)\n",
    "sorted_classes = mean_correlation.index\n",
    "sorted_matrix = correlation_matrix.loc[sorted_classes, sorted_classes]\n",
    "\n",
    "# Step 5: 視覺化相關性\n",
    "plt.figure(figsize=(10, 8))\n",
    "plt.imshow(sorted_matrix, cmap='coolwarm', interpolation='none')\n",
    "plt.colorbar(label='Correlation Coefficient')\n",
    "plt.xticks(range(len(sorted_matrix.columns)), sorted_matrix.columns, rotation=90)\n",
    "plt.yticks(range(len(sorted_matrix.index)), sorted_matrix.index)\n",
    "plt.title('Correlation Matrix of Classes (Sorted)(sunlight)')\n",
    "plt.show()\n",
    "\n"
   ]
  },
  {
   "cell_type": "markdown",
   "metadata": {},
   "source": [
    "### 評估sunlight 跟 power 的關聯"
   ]
  },
  {
   "cell_type": "code",
   "execution_count": 24,
   "metadata": {},
   "outputs": [
    {
     "name": "stderr",
     "output_type": "stream",
     "text": [
      "C:\\Users\\meowm\\AppData\\Local\\Temp\\ipykernel_5164\\1945651511.py:2: DeprecationWarning:\n",
      "\n",
      "DataFrameGroupBy.apply operated on the grouping columns. This behavior is deprecated, and in a future version of pandas the grouping columns will be excluded from the operation. Either pass `include_groups=False` to exclude the groupings or explicitly select the grouping columns after groupby to silence this warning.\n",
      "\n"
     ]
    },
    {
     "data": {
      "text/plain": [
       "LocationCode\n",
       "1     0.955955\n",
       "2     0.971282\n",
       "3     0.945851\n",
       "4     0.922960\n",
       "5     0.966143\n",
       "6     0.858430\n",
       "7     0.970702\n",
       "8     0.948938\n",
       "9     0.936156\n",
       "10    0.907232\n",
       "11    0.887428\n",
       "12    0.887486\n",
       "13    0.920463\n",
       "14    0.951423\n",
       "15    0.972516\n",
       "16    0.964494\n",
       "17    0.940716\n",
       "dtype: float64"
      ]
     },
     "execution_count": 24,
     "metadata": {},
     "output_type": "execute_result"
    }
   ],
   "source": [
    "# 計算每個 LocationCode 的 Power(mW) 和 Sunlight(Lux) 之間的相關性\n",
    "correlations = df.groupby('LocationCode').apply(lambda x: x['Power(mW)'].corr(x['Sunlight(Lux)']))\n",
    "\n",
    "# 顯示結果\n",
    "correlations"
   ]
  },
  {
   "cell_type": "markdown",
   "metadata": {},
   "source": [
    "#### 策略\n",
    "因為目前看起來是要找同時間的周遭測站的狀況去推估發電情形(不然就變成是猜天氣)\n",
    "所以應該會需要先過濾出能train的資料\n",
    "##### 目前策略\n",
    "從目標時間為中心(time = t,location = l)，找t時不同location的地點，用彼此關係求值(l' -> l)\n",
    "或是用(t',l)去求出->(t,l)\n",
    "更甚至(t',l')->(t,l)\n",
    "但因為會有資料缺失的狀況(很多t不連續)所以要先看資料周遭的狀態\n",
    "去看能從哪些(t',l')來train"
   ]
  },
  {
   "cell_type": "code",
   "execution_count": null,
   "metadata": {},
   "outputs": [],
   "source": []
  },
  {
   "cell_type": "code",
   "execution_count": 25,
   "metadata": {},
   "outputs": [
    {
     "data": {
      "text/html": [
       "<div>\n",
       "<style scoped>\n",
       "    .dataframe tbody tr th:only-of-type {\n",
       "        vertical-align: middle;\n",
       "    }\n",
       "\n",
       "    .dataframe tbody tr th {\n",
       "        vertical-align: top;\n",
       "    }\n",
       "\n",
       "    .dataframe thead th {\n",
       "        text-align: right;\n",
       "    }\n",
       "</style>\n",
       "<table border=\"1\" class=\"dataframe\">\n",
       "  <thead>\n",
       "    <tr style=\"text-align: right;\">\n",
       "      <th></th>\n",
       "      <th>LocationCode</th>\n",
       "      <th>WindSpeed(m/s)</th>\n",
       "      <th>Pressure(hpa)</th>\n",
       "      <th>Temperature(°C)</th>\n",
       "      <th>Humidity(%)</th>\n",
       "      <th>Sunlight(Lux)</th>\n",
       "      <th>Power(mW)</th>\n",
       "      <th>DayOfYear</th>\n",
       "      <th>MinutesSinceStartOfDay</th>\n",
       "    </tr>\n",
       "  </thead>\n",
       "  <tbody>\n",
       "    <tr>\n",
       "      <th>0</th>\n",
       "      <td>10</td>\n",
       "      <td>0.0</td>\n",
       "      <td>1017.48</td>\n",
       "      <td>15.59</td>\n",
       "      <td>94.30</td>\n",
       "      <td>652.92</td>\n",
       "      <td>0.12</td>\n",
       "      <td>61</td>\n",
       "      <td>1034</td>\n",
       "    </tr>\n",
       "    <tr>\n",
       "      <th>1</th>\n",
       "      <td>10</td>\n",
       "      <td>0.0</td>\n",
       "      <td>1017.48</td>\n",
       "      <td>15.66</td>\n",
       "      <td>94.04</td>\n",
       "      <td>682.50</td>\n",
       "      <td>0.12</td>\n",
       "      <td>61</td>\n",
       "      <td>1034</td>\n",
       "    </tr>\n",
       "    <tr>\n",
       "      <th>2</th>\n",
       "      <td>10</td>\n",
       "      <td>0.0</td>\n",
       "      <td>1017.47</td>\n",
       "      <td>15.74</td>\n",
       "      <td>94.10</td>\n",
       "      <td>750.00</td>\n",
       "      <td>0.14</td>\n",
       "      <td>61</td>\n",
       "      <td>1035</td>\n",
       "    </tr>\n",
       "    <tr>\n",
       "      <th>3</th>\n",
       "      <td>10</td>\n",
       "      <td>0.0</td>\n",
       "      <td>1017.46</td>\n",
       "      <td>15.78</td>\n",
       "      <td>94.09</td>\n",
       "      <td>738.33</td>\n",
       "      <td>0.14</td>\n",
       "      <td>61</td>\n",
       "      <td>1036</td>\n",
       "    </tr>\n",
       "    <tr>\n",
       "      <th>4</th>\n",
       "      <td>10</td>\n",
       "      <td>0.0</td>\n",
       "      <td>1017.49</td>\n",
       "      <td>15.80</td>\n",
       "      <td>94.08</td>\n",
       "      <td>660.83</td>\n",
       "      <td>0.12</td>\n",
       "      <td>61</td>\n",
       "      <td>1037</td>\n",
       "    </tr>\n",
       "    <tr>\n",
       "      <th>...</th>\n",
       "      <td>...</td>\n",
       "      <td>...</td>\n",
       "      <td>...</td>\n",
       "      <td>...</td>\n",
       "      <td>...</td>\n",
       "      <td>...</td>\n",
       "      <td>...</td>\n",
       "      <td>...</td>\n",
       "      <td>...</td>\n",
       "    </tr>\n",
       "    <tr>\n",
       "      <th>1194888</th>\n",
       "      <td>9</td>\n",
       "      <td>0.0</td>\n",
       "      <td>994.54</td>\n",
       "      <td>30.69</td>\n",
       "      <td>72.91</td>\n",
       "      <td>2288.33</td>\n",
       "      <td>1.10</td>\n",
       "      <td>205</td>\n",
       "      <td>950</td>\n",
       "    </tr>\n",
       "    <tr>\n",
       "      <th>1194889</th>\n",
       "      <td>9</td>\n",
       "      <td>0.0</td>\n",
       "      <td>994.40</td>\n",
       "      <td>30.27</td>\n",
       "      <td>73.16</td>\n",
       "      <td>3236.67</td>\n",
       "      <td>1.92</td>\n",
       "      <td>205</td>\n",
       "      <td>951</td>\n",
       "    </tr>\n",
       "    <tr>\n",
       "      <th>1194890</th>\n",
       "      <td>9</td>\n",
       "      <td>0.0</td>\n",
       "      <td>994.39</td>\n",
       "      <td>29.90</td>\n",
       "      <td>72.51</td>\n",
       "      <td>4526.67</td>\n",
       "      <td>3.57</td>\n",
       "      <td>205</td>\n",
       "      <td>952</td>\n",
       "    </tr>\n",
       "    <tr>\n",
       "      <th>1194891</th>\n",
       "      <td>9</td>\n",
       "      <td>0.0</td>\n",
       "      <td>994.40</td>\n",
       "      <td>29.38</td>\n",
       "      <td>73.23</td>\n",
       "      <td>4231.67</td>\n",
       "      <td>3.13</td>\n",
       "      <td>205</td>\n",
       "      <td>953</td>\n",
       "    </tr>\n",
       "    <tr>\n",
       "      <th>1194892</th>\n",
       "      <td>9</td>\n",
       "      <td>0.0</td>\n",
       "      <td>994.58</td>\n",
       "      <td>29.06</td>\n",
       "      <td>74.22</td>\n",
       "      <td>3685.83</td>\n",
       "      <td>2.46</td>\n",
       "      <td>205</td>\n",
       "      <td>954</td>\n",
       "    </tr>\n",
       "  </tbody>\n",
       "</table>\n",
       "<p>1194893 rows × 9 columns</p>\n",
       "</div>"
      ],
      "text/plain": [
       "         LocationCode  WindSpeed(m/s)  Pressure(hpa)  Temperature(°C)  \\\n",
       "0                  10             0.0        1017.48            15.59   \n",
       "1                  10             0.0        1017.48            15.66   \n",
       "2                  10             0.0        1017.47            15.74   \n",
       "3                  10             0.0        1017.46            15.78   \n",
       "4                  10             0.0        1017.49            15.80   \n",
       "...               ...             ...            ...              ...   \n",
       "1194888             9             0.0         994.54            30.69   \n",
       "1194889             9             0.0         994.40            30.27   \n",
       "1194890             9             0.0         994.39            29.90   \n",
       "1194891             9             0.0         994.40            29.38   \n",
       "1194892             9             0.0         994.58            29.06   \n",
       "\n",
       "         Humidity(%)  Sunlight(Lux)  Power(mW)  DayOfYear  \\\n",
       "0              94.30         652.92       0.12         61   \n",
       "1              94.04         682.50       0.12         61   \n",
       "2              94.10         750.00       0.14         61   \n",
       "3              94.09         738.33       0.14         61   \n",
       "4              94.08         660.83       0.12         61   \n",
       "...              ...            ...        ...        ...   \n",
       "1194888        72.91        2288.33       1.10        205   \n",
       "1194889        73.16        3236.67       1.92        205   \n",
       "1194890        72.51        4526.67       3.57        205   \n",
       "1194891        73.23        4231.67       3.13        205   \n",
       "1194892        74.22        3685.83       2.46        205   \n",
       "\n",
       "         MinutesSinceStartOfDay  \n",
       "0                          1034  \n",
       "1                          1034  \n",
       "2                          1035  \n",
       "3                          1036  \n",
       "4                          1037  \n",
       "...                         ...  \n",
       "1194888                     950  \n",
       "1194889                     951  \n",
       "1194890                     952  \n",
       "1194891                     953  \n",
       "1194892                     954  \n",
       "\n",
       "[1194893 rows x 9 columns]"
      ]
     },
     "execution_count": 25,
     "metadata": {},
     "output_type": "execute_result"
    }
   ],
   "source": [
    "df"
   ]
  },
  {
   "cell_type": "code",
   "execution_count": 26,
   "metadata": {},
   "outputs": [
    {
     "name": "stderr",
     "output_type": "stream",
     "text": [
      "C:\\Users\\meowm\\AppData\\Local\\Temp\\ipykernel_5164\\1036414939.py:12: FutureWarning:\n",
      "\n",
      "The provided callable <built-in function min> is currently using SeriesGroupBy.min. In a future version of pandas, the provided callable will be used directly. To keep current behavior pass the string \"min\" instead.\n",
      "\n",
      "C:\\Users\\meowm\\AppData\\Local\\Temp\\ipykernel_5164\\1036414939.py:12: FutureWarning:\n",
      "\n",
      "The provided callable <built-in function max> is currently using SeriesGroupBy.max. In a future version of pandas, the provided callable will be used directly. To keep current behavior pass the string \"max\" instead.\n",
      "\n"
     ]
    },
    {
     "data": {
      "application/vnd.plotly.v1+json": {
       "config": {
        "plotlyServerURL": "https://plot.ly"
       },
       "data": [
        {
         "alignmentgroup": "True",
         "base": [
          "2024-01-01T06:31:08",
          "2024-01-17T15:28:05",
          "2024-03-09T14:06:42",
          "2024-04-18T05:17:06",
          "2024-04-21T16:32:01",
          "2024-05-14T16:50:07",
          "2024-05-17T16:54:50",
          "2024-01-06T06:21:19",
          "2024-02-21T06:07:42",
          "2024-03-01T17:14:06",
          "2024-02-28T06:04:46",
          "2024-03-01T15:41:28",
          "2024-01-26T16:01:40",
          "2024-02-14T15:22:05",
          "2024-02-09T14:58:38",
          "2024-03-03T12:23:46",
          "2024-01-01T06:29:01"
         ],
         "hovertemplate": "start=%{base}<br>end=%{x}<br>LocationCode=%{y}<extra></extra>",
         "legendgroup": "",
         "marker": {
          "color": "#636efa",
          "pattern": {
           "shape": ""
          }
         },
         "name": "",
         "offsetgroup": "",
         "orientation": "h",
         "showlegend": false,
         "textposition": "auto",
         "type": "bar",
         "x": [
          17754599000,
          16122122000,
          10616605000,
          8211241000,
          7652586000,
          6137520000,
          5679304000,
          20594997000,
          13254435000,
          12312322000,
          11965281000,
          12006759000,
          15040540000,
          13397522000,
          13307480000,
          11255421000,
          16707706000
         ],
         "xaxis": "x",
         "y": [
          1,
          2,
          3,
          4,
          5,
          6,
          7,
          8,
          9,
          10,
          11,
          12,
          13,
          14,
          15,
          16,
          17
         ],
         "yaxis": "y"
        }
       ],
       "layout": {
        "barmode": "overlay",
        "legend": {
         "tracegroupgap": 0
        },
        "template": {
         "data": {
          "bar": [
           {
            "error_x": {
             "color": "#2a3f5f"
            },
            "error_y": {
             "color": "#2a3f5f"
            },
            "marker": {
             "line": {
              "color": "#E5ECF6",
              "width": 0.5
             },
             "pattern": {
              "fillmode": "overlay",
              "size": 10,
              "solidity": 0.2
             }
            },
            "type": "bar"
           }
          ],
          "barpolar": [
           {
            "marker": {
             "line": {
              "color": "#E5ECF6",
              "width": 0.5
             },
             "pattern": {
              "fillmode": "overlay",
              "size": 10,
              "solidity": 0.2
             }
            },
            "type": "barpolar"
           }
          ],
          "carpet": [
           {
            "aaxis": {
             "endlinecolor": "#2a3f5f",
             "gridcolor": "white",
             "linecolor": "white",
             "minorgridcolor": "white",
             "startlinecolor": "#2a3f5f"
            },
            "baxis": {
             "endlinecolor": "#2a3f5f",
             "gridcolor": "white",
             "linecolor": "white",
             "minorgridcolor": "white",
             "startlinecolor": "#2a3f5f"
            },
            "type": "carpet"
           }
          ],
          "choropleth": [
           {
            "colorbar": {
             "outlinewidth": 0,
             "ticks": ""
            },
            "type": "choropleth"
           }
          ],
          "contour": [
           {
            "colorbar": {
             "outlinewidth": 0,
             "ticks": ""
            },
            "colorscale": [
             [
              0,
              "#0d0887"
             ],
             [
              0.1111111111111111,
              "#46039f"
             ],
             [
              0.2222222222222222,
              "#7201a8"
             ],
             [
              0.3333333333333333,
              "#9c179e"
             ],
             [
              0.4444444444444444,
              "#bd3786"
             ],
             [
              0.5555555555555556,
              "#d8576b"
             ],
             [
              0.6666666666666666,
              "#ed7953"
             ],
             [
              0.7777777777777778,
              "#fb9f3a"
             ],
             [
              0.8888888888888888,
              "#fdca26"
             ],
             [
              1,
              "#f0f921"
             ]
            ],
            "type": "contour"
           }
          ],
          "contourcarpet": [
           {
            "colorbar": {
             "outlinewidth": 0,
             "ticks": ""
            },
            "type": "contourcarpet"
           }
          ],
          "heatmap": [
           {
            "colorbar": {
             "outlinewidth": 0,
             "ticks": ""
            },
            "colorscale": [
             [
              0,
              "#0d0887"
             ],
             [
              0.1111111111111111,
              "#46039f"
             ],
             [
              0.2222222222222222,
              "#7201a8"
             ],
             [
              0.3333333333333333,
              "#9c179e"
             ],
             [
              0.4444444444444444,
              "#bd3786"
             ],
             [
              0.5555555555555556,
              "#d8576b"
             ],
             [
              0.6666666666666666,
              "#ed7953"
             ],
             [
              0.7777777777777778,
              "#fb9f3a"
             ],
             [
              0.8888888888888888,
              "#fdca26"
             ],
             [
              1,
              "#f0f921"
             ]
            ],
            "type": "heatmap"
           }
          ],
          "heatmapgl": [
           {
            "colorbar": {
             "outlinewidth": 0,
             "ticks": ""
            },
            "colorscale": [
             [
              0,
              "#0d0887"
             ],
             [
              0.1111111111111111,
              "#46039f"
             ],
             [
              0.2222222222222222,
              "#7201a8"
             ],
             [
              0.3333333333333333,
              "#9c179e"
             ],
             [
              0.4444444444444444,
              "#bd3786"
             ],
             [
              0.5555555555555556,
              "#d8576b"
             ],
             [
              0.6666666666666666,
              "#ed7953"
             ],
             [
              0.7777777777777778,
              "#fb9f3a"
             ],
             [
              0.8888888888888888,
              "#fdca26"
             ],
             [
              1,
              "#f0f921"
             ]
            ],
            "type": "heatmapgl"
           }
          ],
          "histogram": [
           {
            "marker": {
             "pattern": {
              "fillmode": "overlay",
              "size": 10,
              "solidity": 0.2
             }
            },
            "type": "histogram"
           }
          ],
          "histogram2d": [
           {
            "colorbar": {
             "outlinewidth": 0,
             "ticks": ""
            },
            "colorscale": [
             [
              0,
              "#0d0887"
             ],
             [
              0.1111111111111111,
              "#46039f"
             ],
             [
              0.2222222222222222,
              "#7201a8"
             ],
             [
              0.3333333333333333,
              "#9c179e"
             ],
             [
              0.4444444444444444,
              "#bd3786"
             ],
             [
              0.5555555555555556,
              "#d8576b"
             ],
             [
              0.6666666666666666,
              "#ed7953"
             ],
             [
              0.7777777777777778,
              "#fb9f3a"
             ],
             [
              0.8888888888888888,
              "#fdca26"
             ],
             [
              1,
              "#f0f921"
             ]
            ],
            "type": "histogram2d"
           }
          ],
          "histogram2dcontour": [
           {
            "colorbar": {
             "outlinewidth": 0,
             "ticks": ""
            },
            "colorscale": [
             [
              0,
              "#0d0887"
             ],
             [
              0.1111111111111111,
              "#46039f"
             ],
             [
              0.2222222222222222,
              "#7201a8"
             ],
             [
              0.3333333333333333,
              "#9c179e"
             ],
             [
              0.4444444444444444,
              "#bd3786"
             ],
             [
              0.5555555555555556,
              "#d8576b"
             ],
             [
              0.6666666666666666,
              "#ed7953"
             ],
             [
              0.7777777777777778,
              "#fb9f3a"
             ],
             [
              0.8888888888888888,
              "#fdca26"
             ],
             [
              1,
              "#f0f921"
             ]
            ],
            "type": "histogram2dcontour"
           }
          ],
          "mesh3d": [
           {
            "colorbar": {
             "outlinewidth": 0,
             "ticks": ""
            },
            "type": "mesh3d"
           }
          ],
          "parcoords": [
           {
            "line": {
             "colorbar": {
              "outlinewidth": 0,
              "ticks": ""
             }
            },
            "type": "parcoords"
           }
          ],
          "pie": [
           {
            "automargin": true,
            "type": "pie"
           }
          ],
          "scatter": [
           {
            "fillpattern": {
             "fillmode": "overlay",
             "size": 10,
             "solidity": 0.2
            },
            "type": "scatter"
           }
          ],
          "scatter3d": [
           {
            "line": {
             "colorbar": {
              "outlinewidth": 0,
              "ticks": ""
             }
            },
            "marker": {
             "colorbar": {
              "outlinewidth": 0,
              "ticks": ""
             }
            },
            "type": "scatter3d"
           }
          ],
          "scattercarpet": [
           {
            "marker": {
             "colorbar": {
              "outlinewidth": 0,
              "ticks": ""
             }
            },
            "type": "scattercarpet"
           }
          ],
          "scattergeo": [
           {
            "marker": {
             "colorbar": {
              "outlinewidth": 0,
              "ticks": ""
             }
            },
            "type": "scattergeo"
           }
          ],
          "scattergl": [
           {
            "marker": {
             "colorbar": {
              "outlinewidth": 0,
              "ticks": ""
             }
            },
            "type": "scattergl"
           }
          ],
          "scattermapbox": [
           {
            "marker": {
             "colorbar": {
              "outlinewidth": 0,
              "ticks": ""
             }
            },
            "type": "scattermapbox"
           }
          ],
          "scatterpolar": [
           {
            "marker": {
             "colorbar": {
              "outlinewidth": 0,
              "ticks": ""
             }
            },
            "type": "scatterpolar"
           }
          ],
          "scatterpolargl": [
           {
            "marker": {
             "colorbar": {
              "outlinewidth": 0,
              "ticks": ""
             }
            },
            "type": "scatterpolargl"
           }
          ],
          "scatterternary": [
           {
            "marker": {
             "colorbar": {
              "outlinewidth": 0,
              "ticks": ""
             }
            },
            "type": "scatterternary"
           }
          ],
          "surface": [
           {
            "colorbar": {
             "outlinewidth": 0,
             "ticks": ""
            },
            "colorscale": [
             [
              0,
              "#0d0887"
             ],
             [
              0.1111111111111111,
              "#46039f"
             ],
             [
              0.2222222222222222,
              "#7201a8"
             ],
             [
              0.3333333333333333,
              "#9c179e"
             ],
             [
              0.4444444444444444,
              "#bd3786"
             ],
             [
              0.5555555555555556,
              "#d8576b"
             ],
             [
              0.6666666666666666,
              "#ed7953"
             ],
             [
              0.7777777777777778,
              "#fb9f3a"
             ],
             [
              0.8888888888888888,
              "#fdca26"
             ],
             [
              1,
              "#f0f921"
             ]
            ],
            "type": "surface"
           }
          ],
          "table": [
           {
            "cells": {
             "fill": {
              "color": "#EBF0F8"
             },
             "line": {
              "color": "white"
             }
            },
            "header": {
             "fill": {
              "color": "#C8D4E3"
             },
             "line": {
              "color": "white"
             }
            },
            "type": "table"
           }
          ]
         },
         "layout": {
          "annotationdefaults": {
           "arrowcolor": "#2a3f5f",
           "arrowhead": 0,
           "arrowwidth": 1
          },
          "autotypenumbers": "strict",
          "coloraxis": {
           "colorbar": {
            "outlinewidth": 0,
            "ticks": ""
           }
          },
          "colorscale": {
           "diverging": [
            [
             0,
             "#8e0152"
            ],
            [
             0.1,
             "#c51b7d"
            ],
            [
             0.2,
             "#de77ae"
            ],
            [
             0.3,
             "#f1b6da"
            ],
            [
             0.4,
             "#fde0ef"
            ],
            [
             0.5,
             "#f7f7f7"
            ],
            [
             0.6,
             "#e6f5d0"
            ],
            [
             0.7,
             "#b8e186"
            ],
            [
             0.8,
             "#7fbc41"
            ],
            [
             0.9,
             "#4d9221"
            ],
            [
             1,
             "#276419"
            ]
           ],
           "sequential": [
            [
             0,
             "#0d0887"
            ],
            [
             0.1111111111111111,
             "#46039f"
            ],
            [
             0.2222222222222222,
             "#7201a8"
            ],
            [
             0.3333333333333333,
             "#9c179e"
            ],
            [
             0.4444444444444444,
             "#bd3786"
            ],
            [
             0.5555555555555556,
             "#d8576b"
            ],
            [
             0.6666666666666666,
             "#ed7953"
            ],
            [
             0.7777777777777778,
             "#fb9f3a"
            ],
            [
             0.8888888888888888,
             "#fdca26"
            ],
            [
             1,
             "#f0f921"
            ]
           ],
           "sequentialminus": [
            [
             0,
             "#0d0887"
            ],
            [
             0.1111111111111111,
             "#46039f"
            ],
            [
             0.2222222222222222,
             "#7201a8"
            ],
            [
             0.3333333333333333,
             "#9c179e"
            ],
            [
             0.4444444444444444,
             "#bd3786"
            ],
            [
             0.5555555555555556,
             "#d8576b"
            ],
            [
             0.6666666666666666,
             "#ed7953"
            ],
            [
             0.7777777777777778,
             "#fb9f3a"
            ],
            [
             0.8888888888888888,
             "#fdca26"
            ],
            [
             1,
             "#f0f921"
            ]
           ]
          },
          "colorway": [
           "#636efa",
           "#EF553B",
           "#00cc96",
           "#ab63fa",
           "#FFA15A",
           "#19d3f3",
           "#FF6692",
           "#B6E880",
           "#FF97FF",
           "#FECB52"
          ],
          "font": {
           "color": "#2a3f5f"
          },
          "geo": {
           "bgcolor": "white",
           "lakecolor": "white",
           "landcolor": "#E5ECF6",
           "showlakes": true,
           "showland": true,
           "subunitcolor": "white"
          },
          "hoverlabel": {
           "align": "left"
          },
          "hovermode": "closest",
          "mapbox": {
           "style": "light"
          },
          "paper_bgcolor": "white",
          "plot_bgcolor": "#E5ECF6",
          "polar": {
           "angularaxis": {
            "gridcolor": "white",
            "linecolor": "white",
            "ticks": ""
           },
           "bgcolor": "#E5ECF6",
           "radialaxis": {
            "gridcolor": "white",
            "linecolor": "white",
            "ticks": ""
           }
          },
          "scene": {
           "xaxis": {
            "backgroundcolor": "#E5ECF6",
            "gridcolor": "white",
            "gridwidth": 2,
            "linecolor": "white",
            "showbackground": true,
            "ticks": "",
            "zerolinecolor": "white"
           },
           "yaxis": {
            "backgroundcolor": "#E5ECF6",
            "gridcolor": "white",
            "gridwidth": 2,
            "linecolor": "white",
            "showbackground": true,
            "ticks": "",
            "zerolinecolor": "white"
           },
           "zaxis": {
            "backgroundcolor": "#E5ECF6",
            "gridcolor": "white",
            "gridwidth": 2,
            "linecolor": "white",
            "showbackground": true,
            "ticks": "",
            "zerolinecolor": "white"
           }
          },
          "shapedefaults": {
           "line": {
            "color": "#2a3f5f"
           }
          },
          "ternary": {
           "aaxis": {
            "gridcolor": "white",
            "linecolor": "white",
            "ticks": ""
           },
           "baxis": {
            "gridcolor": "white",
            "linecolor": "white",
            "ticks": ""
           },
           "bgcolor": "#E5ECF6",
           "caxis": {
            "gridcolor": "white",
            "linecolor": "white",
            "ticks": ""
           }
          },
          "title": {
           "x": 0.05
          },
          "xaxis": {
           "automargin": true,
           "gridcolor": "white",
           "linecolor": "white",
           "ticks": "",
           "title": {
            "standoff": 15
           },
           "zerolinecolor": "white",
           "zerolinewidth": 2
          },
          "yaxis": {
           "automargin": true,
           "gridcolor": "white",
           "linecolor": "white",
           "ticks": "",
           "title": {
            "standoff": 15
           },
           "zerolinecolor": "white",
           "zerolinewidth": 2
          }
         }
        },
        "title": {
         "text": "Time Span of Locations"
        },
        "xaxis": {
         "anchor": "y",
         "domain": [
          0,
          1
         ],
         "type": "date"
        },
        "yaxis": {
         "anchor": "x",
         "categoryorder": "total ascending",
         "domain": [
          0,
          1
         ],
         "title": {
          "text": "LocationCode"
         }
        }
       }
      }
     },
     "metadata": {},
     "output_type": "display_data"
    }
   ],
   "source": [
    "import pandas as pd\n",
    "import plotly.express as px\n",
    "\n",
    "# 讀取數據\n",
    "file_path = 'ds_clean/ds_clean.csv'\n",
    "orig_df = pd.read_csv(file_path)\n",
    "\n",
    "# 確保時間戳記格式正確\n",
    "orig_df['timestamp'] = pd.to_datetime(orig_df['DateTime'])\n",
    "\n",
    "# 計算每個 location 的時間跨度\n",
    "location_time = orig_df.groupby('LocationCode')['timestamp'].agg([min, max]).reset_index()\n",
    "location_time.rename(columns={'min': 'start', 'max': 'end'}, inplace=True)\n",
    "\n",
    "# 繪製時間線圖（類似 Gantt 圖）\n",
    "fig = px.timeline(\n",
    "    location_time,\n",
    "    x_start='start',\n",
    "    x_end='end',\n",
    "    y='LocationCode',\n",
    "    title='Time Span of Locations',\n",
    "    labels={'LocationCode': 'LocationCode'},\n",
    ")\n",
    "\n",
    "# 反轉 Y 軸，使得時間順序更直觀\n",
    "fig.update_yaxes(categoryorder='total ascending')\n",
    "\n",
    "# 顯示圖表\n",
    "fig.show()\n"
   ]
  },
  {
   "cell_type": "markdown",
   "metadata": {},
   "source": [
    "LocationCode\tDateTime\tWindSpeed(m/s)\tPressure(hpa)\tTemperature(°C)\tHumidity(%)\tSunlight(Lux)\tPower(mW)"
   ]
  },
  {
   "cell_type": "code",
   "execution_count": 37,
   "metadata": {},
   "outputs": [
    {
     "name": "stdout",
     "output_type": "stream",
     "text": [
      "\n",
      "每日時間摘要已儲存至 daily_time_summary.csv\n",
      "\n"
     ]
    },
    {
     "data": {
      "image/png": "[encoded data removed]",
      "text/plain": [
       "<Figure size 1500x800 with 2 Axes>"
      ]
     },
     "metadata": {},
     "output_type": "display_data"
    },
    {
     "data": {
      "image/png": "[encoded data removed]",
      "text/plain": [
       "<Figure size 1200x600 with 1 Axes>"
      ]
     },
     "metadata": {},
     "output_type": "display_data"
    }
   ],
   "source": [
    "import pandas as pd\n",
    "import matplotlib.pyplot as plt\n",
    "import seaborn as sns\n",
    "from matplotlib.dates import DateFormatter, HourLocator, MinuteLocator\n",
    "import matplotlib.dates as mdates\n",
    "\n",
    "file_path = 'ds_clean/ds_clean.csv'\n",
    "\n",
    "df = pd.read_csv(file_path)\n",
    "df['DateTime'] = pd.to_datetime(df['DateTime'])\n",
    "\n",
    "# 提取日期欄位\n",
    "df['date'] = df['DateTime'].dt.date\n",
    "\n",
    "# 按 location 和日期分組，計算每天的開始和停止時間\n",
    "daily_time_summary = df.groupby(['LocationCode', 'date']).agg(\n",
    "    start_time=('DateTime', 'min'),\n",
    "    end_time=('DateTime', 'max')\n",
    ").reset_index()\n",
    "\n",
    "# Step 2: 儲存整理好的每日紀錄時間摘要\n",
    "output_path = 'daily_time_summary.csv'\n",
    "daily_time_summary.to_csv(output_path, index=False)\n",
    "print(f\"\\n每日時間摘要已儲存至 {output_path}\\n\")\n",
    "\n",
    "# Step 3: 計算每日的紀錄時間跨度\n",
    "daily_time_summary['duration'] = (\n",
    "    daily_time_summary['end_time'] - daily_time_summary['start_time']\n",
    ").dt.total_seconds() / 3600\n",
    "\n",
    "# Step 4: 使用熱力圖觀察紀錄時間的分布\n",
    "# 將每日紀錄時間跨度整理成 pivot table\n",
    "pivot_table = daily_time_summary.pivot_table(index='LocationCode', columns='date', values='duration')\n",
    "\n",
    "# 熱力圖繪製\n",
    "plt.figure(figsize=(15, 8))\n",
    "sns.heatmap(pivot_table, cmap='YlGnBu', cbar_kws={'label': 'Duration (hours)'})\n",
    "plt.title('Daily Recording Duration by Location')\n",
    "plt.xlabel('Date')\n",
    "plt.ylabel('Location')\n",
    "plt.show()\n",
    "\n",
    "# Step 5: 折線圖顯示各地點的開始與停止時間變動趨勢\n",
    "plt.figure(figsize=(12, 6))\n",
    "for loc in daily_time_summary['LocationCode'].unique()[:5]:  # 只取前5個地點作為示例\n",
    "    loc_data = daily_time_summary[daily_time_summary['LocationCode'] == loc]\n",
    "    plt.plot(loc_data['date'], loc_data['start_time'], label=f\"{loc} Start\", alpha=0.7)\n",
    "    plt.plot(loc_data['date'], loc_data['end_time'], label=f\"{loc} End\", alpha=0.7)\n",
    "\n",
    "# 限制 Y 軸的時間刻度間隔並修正格式\n",
    "plt.gca().yaxis.set_major_locator(mdates.HourLocator(interval=6))  # 每6小時設置主要刻度\n",
    "plt.gca().yaxis.set_minor_locator(mdates.HourLocator(interval=3))  # 每3小時設置次要刻度\n",
    "plt.gca().yaxis.set_major_formatter(mdates.DateFormatter('%H:%M'))  # 格式化時間為 HH:MM\n",
    "plt.gca().set_ylim(pd.Timestamp('00:00').to_pydatetime(), pd.Timestamp('23:59').to_pydatetime())  # 限定Y軸範圍\n",
    "\n",
    "plt.xlabel('Date')\n",
    "plt.ylabel('Time (HH:MM)')\n",
    "plt.title('Start and End Time by Location')\n",
    "plt.legend()\n",
    "plt.show()\n"
   ]
  }
 ],
 "metadata": {
  "kernelspec": {
   "display_name": "Python 3",
   "language": "python",
   "name": "python3"
  },
  "language_info": {
   "codemirror_mode": {
    "name": "ipython",
    "version": 3
   },
   "file_extension": ".py",
   "mimetype": "text/x-python",
   "name": "python",
   "nbconvert_exporter": "python",
   "pygments_lexer": "ipython3",
   "version": "3.12.7"
  }
 },
 "nbformat": 4,
 "nbformat_minor": 2
}
